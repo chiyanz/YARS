{
 "cells": [
  {
   "cell_type": "code",
   "execution_count": 1,
   "id": "40d76efa-67ef-436a-bb57-d76822971b96",
   "metadata": {},
   "outputs": [
    {
     "name": "stderr",
     "output_type": "stream",
     "text": [
      "/ext3/miniconda3/lib/python3.12/site-packages/tqdm/auto.py:21: TqdmWarning: IProgress not found. Please update jupyter and ipywidgets. See https://ipywidgets.readthedocs.io/en/stable/user_install.html\n",
      "  from .autonotebook import tqdm as notebook_tqdm\n"
     ]
    }
   ],
   "source": [
    "import json\n",
    "import open_clip\n",
    "import torch\n",
    "import os\n",
    "from PIL import Image\n",
    "\n",
    "filename = 'clusters.json'\n",
    "image_folder_path = \"yars_data/photos\"\n",
    "\n",
    "with open(filename, 'r') as file:\n",
    "    clusters_loaded = json.load(file)\n",
    "\n",
    "\n",
    "model, _, transform = open_clip.create_model_and_transforms(\n",
    "  model_name=\"coca_ViT-L-14\",\n",
    "  pretrained=\"mscoco_finetuned_laion2B-s13B-b90k\"\n",
    ")\n",
    "\n",
    "if torch.cuda.is_available():\n",
    "    model = model.cuda()\n",
    "else:\n",
    "    print(\"CUDA is not available. Running on CPU.\")\n"
   ]
  },
  {
   "cell_type": "code",
   "execution_count": 2,
   "id": "51760f9b-126a-41cb-805a-36f6032e0dee",
   "metadata": {},
   "outputs": [
    {
     "name": "stdout",
     "output_type": "stream",
     "text": [
      "Processed cluster 56: qzElzsnHc9yvFgxeWKy-qA.jpg\r"
     ]
    }
   ],
   "source": [
    "cluster_captions = {}\n",
    "\n",
    "count = 0\n",
    "with open(\"cluster_captions.txt\", \"a\") as file:\n",
    "    for cluster, images in clusters_loaded.items():\n",
    "        # ignore small clusters which are likely outliers \n",
    "        if len(images) >= 5:\n",
    "            for image_id in images:\n",
    "                if cluster != '-1':\n",
    "                    if cluster not in cluster_captions:\n",
    "                        cluster_captions[cluster] = []\n",
    "                    \n",
    "                    image_path = os.path.join(image_folder_path, image_id)\n",
    "                    im = Image.open(image_path).convert(\"RGB\")\n",
    "                    im = transform(im).unsqueeze(0)\n",
    "                    im = im.cuda()\n",
    "            \n",
    "                    with torch.no_grad(), torch.cuda.amp.autocast():\n",
    "                      generated = model.generate(im, generation_type='top_k')\n",
    "                    \n",
    "                    caption = open_clip.decode(generated[0]).split(\"<end_of_text>\")[0].replace(\"<start_of_text>\", \"\")\n",
    "                    cluster_captions[cluster].append(caption)\n",
    "                    file.write(f\"{cluster}: {caption}\\n\")\n",
    "                    print(f\"Processed cluster {cluster}: {image_id}\", end='\\r', flush=True)\n"
   ]
  },
  {
   "cell_type": "code",
   "execution_count": 7,
   "id": "8a2342d3-0bad-4dfb-8e11-90db16ae6507",
   "metadata": {},
   "outputs": [
    {
     "name": "stdout",
     "output_type": "stream",
     "text": [
      "[('food', 6), ('table', 6), ('rice', 4), ('plate', 3), ('bowl', 3), ('plates', 3), ('meat', 1), ('vegetables', 1), ('fork', 1), ('curry', 1), ('bowls', 1), ('variety', 1), ('shown', 1), ('water', 1)]\n",
      "[('plate', 4), ('ribs', 3), ('fries', 3), ('coleslaw', 3), ('beer', 3), ('wooden', 2), ('cutting', 2), ('board', 2), ('meat', 2), ('chicken', 2), ('wings', 2), ('celery', 2), ('drink', 1), ('sticks', 1), ('bowl', 1), ('side', 1)]\n",
      "[('plate', 21), ('sushi', 20), ('food', 8), ('variety', 6), ('table', 6), ('sauce', 6), ('toppings', 5), ('roll', 5), ('rolls', 3), ('close', 3), ('rice', 2), ('shrimp', 1), ('items', 1), ('candle', 1), ('background', 1), ('chopsticks', 1), ('green', 1), ('onions', 1), ('wooden', 1), ('topped', 1), ('covered', 1), ('two', 1), ('plates', 1), ('salmon', 1), ('avocado', 1), ('fork', 1)]\n",
      "[('table', 10), ('lemon', 8), ('oysters', 7), ('plate', 6), ('black', 6), ('white', 6), ('checkered', 6), ('food', 4), ('cloth', 4), ('tray', 3), ('wedge', 3), ('sauce', 2), ('couple', 1), ('dipping', 1), ('sauces', 1), ('topped', 1), ('lots', 1), ('raw', 1), ('plates', 1), ('sandwich', 1), ('potatoes', 1), ('fork', 1), ('slice', 1), ('top', 1), ('side', 1), ('drink', 1), ('ice', 1)]\n",
      "[('pizza', 9), ('top', 6), ('sitting', 5), ('pan', 5), ('table', 4), ('pepperoni', 3), ('different', 2), ('plate', 2), ('mushrooms', 2), ('two', 1), ('pizzas', 1), ('toppings', 1), ('metal', 1), ('close', 1), ('olives', 1), ('peppers', 1), ('shown', 1)]\n"
     ]
    },
    {
     "name": "stderr",
     "output_type": "stream",
     "text": [
      "[nltk_data] Downloading package stopwords to /home/qz2190/nltk_data...\n",
      "[nltk_data]   Package stopwords is already up-to-date!\n"
     ]
    }
   ],
   "source": [
    "from collections import Counter\n",
    "import re\n",
    "import nltk\n",
    "from nltk.corpus import stopwords\n",
    "\n",
    "nltk.download('stopwords')\n",
    "stop_words = set(stopwords.words('english'))\n",
    "\n",
    "\n",
    "def tokenize_and_count(captions):\n",
    "    # Regular expression to find words\n",
    "    word_pattern = re.compile(r'\\b\\w+\\b')\n",
    "    \n",
    "    # Flatten the list of captions into a single string\n",
    "    text = ' '.join(captions).lower()  # Convert to lower case for uniformity\n",
    "    \n",
    "    # Find all words in the string\n",
    "    words = word_pattern.findall(text)\n",
    "    \n",
    "    # Count the frequency of each word\n",
    "    frequency = Counter(words)\n",
    "    \n",
    "    return frequency\n",
    "\n",
    "for cluster, captions in cluster_captions.items():\n",
    "    freq = tokenize_and_count(captions)\n",
    "    filtered_counts = {word: count for word, count in freq.items() if word not in stop_words}\n",
    "    print(sorted(filtered_counts.items(), key=lambda x: x[1], reverse=True))\n",
    "\n"
   ]
  }
 ],
 "metadata": {
  "kernelspec": {
   "display_name": "py_env",
   "language": "python",
   "name": "py_env"
  },
  "language_info": {
   "codemirror_mode": {
    "name": "ipython",
    "version": 3
   },
   "file_extension": ".py",
   "mimetype": "text/x-python",
   "name": "python",
   "nbconvert_exporter": "python",
   "pygments_lexer": "ipython3",
   "version": "3.12.2"
  }
 },
 "nbformat": 4,
 "nbformat_minor": 5
}
